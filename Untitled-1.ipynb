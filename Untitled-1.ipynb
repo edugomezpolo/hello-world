{
 "cells": [
  {
   "cell_type": "markdown",
   "id": "746c5c67",
   "metadata": {},
   "source": [
    "PRUEBA REPOSITORIO"
   ]
  },
  {
   "cell_type": "code",
   "execution_count": null,
   "id": "5756c603",
   "metadata": {},
   "outputs": [],
   "source": []
  },
  {
   "cell_type": "code",
   "execution_count": null,
   "id": "fb0c626d",
   "metadata": {},
   "outputs": [],
   "source": []
  }
 ],
 "metadata": {
  "language_info": {
   "name": "python"
  }
 },
 "nbformat": 4,
 "nbformat_minor": 5
}
